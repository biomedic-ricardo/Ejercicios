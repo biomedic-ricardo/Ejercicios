{
 "cells": [
  {
   "cell_type": "markdown",
   "metadata": {},
   "source": [
    "# Naive Bayes (the easy way)"
   ]
  },
  {
   "cell_type": "markdown",
   "metadata": {},
   "source": [
    "We'll cheat by using sklearn.naive_bayes to train a spam classifier! Most of the code is just loading our training data into a pandas DataFrame that we can play with:"
   ]
  },
  {
   "cell_type": "code",
   "execution_count": 1,
   "metadata": {},
   "outputs": [],
   "source": [
    "import os\n",
    "import io\n",
    "import numpy\n",
    "from pandas import DataFrame\n",
    "from sklearn.feature_extraction.text import CountVectorizer\n",
    "from sklearn.naive_bayes import MultinomialNB\n",
    "#read the path file \n",
    "def readFiles(path):\n",
    "    #for every element that we assign the variable root, dirnames, filnames \n",
    "    #in the list path after skip to the next loop\n",
    "    for root, dirnames, filenames in os.walk(path):\n",
    "        #for every  filname  in the list filenames, move(join) root and filename to path\n",
    "        for filename in filenames:\n",
    "            #\n",
    "            path = os.path.join(root, filename)\n",
    "            #\n",
    "            inBody = False\n",
    "            lines = []\n",
    "            #abre el archivo path,open for reading in text mode,the name of the encoding \n",
    "            #used to decode or encode the file (Transforming a unicode object into a \n",
    "            #sequence of bytes) latin1= map the code points 0–255 to the bytes 0x0–0xff..\n",
    "            #and save all in f\n",
    "            f = io.open(path, 'r', encoding='latin1')\n",
    "            #for every element that we assign the variable line, in the list f\n",
    "            #append line in the variable line\n",
    "            for line in f:\n",
    "                if inBody:\n",
    "                    #it's overwritting (concatenate) in the list\n",
    "                    lines.append(line)\n",
    "            #else if lines it's the semae to a \"enter\" change inbody to 1 or true\n",
    "                elif line == '\\n':\n",
    "                    inBody = True\n",
    "            #close f,  A closed file cannot be read or written any more.   \n",
    "            f.close()\n",
    "            #put a varible lines in the variable message \n",
    "            message = '\\n'.join(lines)\n",
    "            #it's to return \"generators\", these are iterators objects which works very similar \n",
    "            #to a list. in words more simple is a return to list \n",
    "            #return path and message\n",
    "            yield path, message\n",
    "\n",
    "#\n",
    "def dataFrameFromDirectory(path, classification):\n",
    "    #create an empty vector called rows\n",
    "    rows = []\n",
    "    #create an empty vector called index\n",
    "    index = []\n",
    "    #for each filename and message in path\n",
    "    for filename, message in readFiles(path):\n",
    "        #the title message, the message, the title class and the classification \n",
    "        #are apend to row\n",
    "        rows.append({'message': message, 'class': classification})\n",
    "        #concatenate filename to index\n",
    "        index.append(filename)\n",
    "        #return dataframe with rows and index, but index is update\n",
    "    return DataFrame(rows, index=index)\n",
    "#put the value of dataframe function in data\n",
    "data = DataFrame({'message': [], 'class': []})\n",
    "#append the data Frame From Directory to data and refresh into data variable to \n",
    "#update inside from data frame all spam e-mails into my spam-folder\n",
    "data = data.append(dataFrameFromDirectory('e:/sundog-consult/Udemy/DataScience/emails/spam', 'spam'))\n",
    "data = data.append(dataFrameFromDirectory('e:/sundog-consult/Udemy/DataScience/emails/ham', 'ham'))\n"
   ]
  },
  {
   "cell_type": "markdown",
   "metadata": {},
   "source": [
    "Let's have a look at that DataFrame:"
   ]
  },
  {
   "cell_type": "code",
   "execution_count": 2,
   "metadata": {},
   "outputs": [
    {
     "data": {
      "text/html": [
       "<div>\n",
       "<table border=\"1\" class=\"dataframe\">\n",
       "  <thead>\n",
       "    <tr style=\"text-align: right;\">\n",
       "      <th></th>\n",
       "      <th>class</th>\n",
       "      <th>message</th>\n",
       "    </tr>\n",
       "  </thead>\n",
       "  <tbody>\n",
       "    <tr>\n",
       "      <th>e:/sundog-consult/Udemy/DataScience/emails/spam\\00001.7848dde101aa985090474a91ec93fcf0</th>\n",
       "      <td>spam</td>\n",
       "      <td>&lt;!DOCTYPE HTML PUBLIC \"-//W3C//DTD HTML 4.0 Tr...</td>\n",
       "    </tr>\n",
       "    <tr>\n",
       "      <th>e:/sundog-consult/Udemy/DataScience/emails/spam\\00002.d94f1b97e48ed3b553b3508d116e6a09</th>\n",
       "      <td>spam</td>\n",
       "      <td>1) Fight The Risk of Cancer!\\n\\nhttp://www.adc...</td>\n",
       "    </tr>\n",
       "    <tr>\n",
       "      <th>e:/sundog-consult/Udemy/DataScience/emails/spam\\00003.2ee33bc6eacdb11f38d052c44819ba6c</th>\n",
       "      <td>spam</td>\n",
       "      <td>1) Fight The Risk of Cancer!\\n\\nhttp://www.adc...</td>\n",
       "    </tr>\n",
       "    <tr>\n",
       "      <th>e:/sundog-consult/Udemy/DataScience/emails/spam\\00004.eac8de8d759b7e74154f142194282724</th>\n",
       "      <td>spam</td>\n",
       "      <td>##############################################...</td>\n",
       "    </tr>\n",
       "    <tr>\n",
       "      <th>e:/sundog-consult/Udemy/DataScience/emails/spam\\00005.57696a39d7d84318ce497886896bf90d</th>\n",
       "      <td>spam</td>\n",
       "      <td>I thought you might like these:\\n\\n1) Slim Dow...</td>\n",
       "    </tr>\n",
       "  </tbody>\n",
       "</table>\n",
       "</div>"
      ],
      "text/plain": [
       "                                                   class  \\\n",
       "e:/sundog-consult/Udemy/DataScience/emails/spam...  spam   \n",
       "e:/sundog-consult/Udemy/DataScience/emails/spam...  spam   \n",
       "e:/sundog-consult/Udemy/DataScience/emails/spam...  spam   \n",
       "e:/sundog-consult/Udemy/DataScience/emails/spam...  spam   \n",
       "e:/sundog-consult/Udemy/DataScience/emails/spam...  spam   \n",
       "\n",
       "                                                                                              message  \n",
       "e:/sundog-consult/Udemy/DataScience/emails/spam...  <!DOCTYPE HTML PUBLIC \"-//W3C//DTD HTML 4.0 Tr...  \n",
       "e:/sundog-consult/Udemy/DataScience/emails/spam...  1) Fight The Risk of Cancer!\\n\\nhttp://www.adc...  \n",
       "e:/sundog-consult/Udemy/DataScience/emails/spam...  1) Fight The Risk of Cancer!\\n\\nhttp://www.adc...  \n",
       "e:/sundog-consult/Udemy/DataScience/emails/spam...  ##############################################...  \n",
       "e:/sundog-consult/Udemy/DataScience/emails/spam...  I thought you might like these:\\n\\n1) Slim Dow...  "
      ]
     },
     "execution_count": 2,
     "metadata": {},
     "output_type": "execute_result"
    }
   ],
   "source": [
    "data.head()"
   ]
  },
  {
   "cell_type": "markdown",
   "metadata": {},
   "source": [
    "Now we will use a CountVectorizer to split up each message into its list of words, and throw that into a MultinomialNB classifier. Call fit() and we've got a trained spam filter ready to go! It's just that easy."
   ]
  },
  {
   "cell_type": "code",
   "execution_count": 3,
   "metadata": {},
   "outputs": [
    {
     "data": {
      "text/plain": [
       "MultinomialNB(alpha=1.0, class_prior=None, fit_prior=True)"
      ]
     },
     "execution_count": 3,
     "metadata": {},
     "output_type": "execute_result"
    }
   ],
   "source": [
    "vectorizer = CountVectorizer()\n",
    "produces a sparse representation of the counts using scipy.sparse.csr_matrix.\n",
    "counts = vectorizer.fit_transform(data['message'].values)\n",
    "\n",
    "classifier = MultinomialNB()\n",
    "targets = data['class'].values\n",
    "classifier.fit(counts, targets)"
   ]
  },
  {
   "cell_type": "markdown",
   "metadata": {},
   "source": [
    "Let's try it out:"
   ]
  },
  {
   "cell_type": "code",
   "execution_count": 4,
   "metadata": {},
   "outputs": [
    {
     "data": {
      "text/plain": [
       "array(['spam', 'ham'], \n",
       "      dtype='<U4')"
      ]
     },
     "execution_count": 4,
     "metadata": {},
     "output_type": "execute_result"
    }
   ],
   "source": [
    "examples = ['Free Viagra now!!!', \"Hi Bob, how about a game of golf tomorrow?\"]\n",
    "example_counts = vectorizer.transform(examples)\n",
    "predictions = classifier.predict(example_counts)\n",
    "predictions"
   ]
  },
  {
   "cell_type": "markdown",
   "metadata": {},
   "source": [
    "## Activity"
   ]
  },
  {
   "cell_type": "markdown",
   "metadata": {},
   "source": [
    "Our data set is small, so our spam classifier isn't actually very good. Try running some different test emails through it and see if you get the results you expect.\n",
    "\n",
    "If you really want to challenge yourself, try applying train/test to this spam classifier - see how well it can predict some subset of the ham and spam emails."
   ]
  },
  {
   "cell_type": "code",
   "execution_count": null,
   "metadata": {},
   "outputs": [],
   "source": []
  }
 ],
 "metadata": {
  "kernelspec": {
   "display_name": "Python 3",
   "language": "python",
   "name": "python3"
  },
  "language_info": {
   "codemirror_mode": {
    "name": "ipython",
    "version": 3
   },
   "file_extension": ".py",
   "mimetype": "text/x-python",
   "name": "python",
   "nbconvert_exporter": "python",
   "pygments_lexer": "ipython3",
   "version": "3.8.5"
  }
 },
 "nbformat": 4,
 "nbformat_minor": 1
}
